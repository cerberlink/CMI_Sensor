{
 "cells": [
  {
   "cell_type": "markdown",
   "id": "88974c7d-1e00-404d-8dc8-338b2afc7f80",
   "metadata": {},
   "source": [
    "## Univariate Analysis - Data Visualizations based on using a single variable"
   ]
  },
  {
   "cell_type": "markdown",
   "id": "169eb355-f348-4ab8-addb-4cc935b83aba",
   "metadata": {},
   "source": [
    "---"
   ]
  },
  {
   "cell_type": "markdown",
   "id": "6fc95974-d28e-46ad-bff8-8c8a8ee0cee0",
   "metadata": {},
   "source": [
    "#### Goals:\n",
    "Create 8 different data visualizations based on univariate analysis... focusing on 8 different columns which are sequence_id, acc_x, acc_y, acc_z, rot_w, rot_x, rot_y, and rot_z."
   ]
  },
  {
   "cell_type": "markdown",
   "id": "b509bafc-fa28-4f92-9440-fb5ff024d428",
   "metadata": {},
   "source": [
    "#### How to do it:\n",
    "- Create a new 'df' as variable every time I finish with each column because I will be using 'usecols' as a parameter for pd.read_csv() function to save memory since running a original dataframe with full rows and columns is worth around more than 1.5 GB; therefore, it loads very slowly."
   ]
  },
  {
   "cell_type": "code",
   "execution_count": 5,
   "id": "08cf6a85-1363-4095-96d0-ce465e6dabbb",
   "metadata": {},
   "outputs": [],
   "source": [
    "# I am importing pandas and numpy libraries\n",
    "import pandas as pd\n",
    "import numpy as np"
   ]
  },
  {
   "cell_type": "markdown",
   "id": "90ad386e-e454-4eac-9d58-266d88250f55",
   "metadata": {},
   "source": [
    "#### Lets do sequence_id first"
   ]
  },
  {
   "cell_type": "code",
   "execution_count": 7,
   "id": "b36e60ee-3f15-445b-8647-1d3297896cbb",
   "metadata": {},
   "outputs": [
    {
     "data": {
      "text/html": [
       "<div>\n",
       "<style scoped>\n",
       "    .dataframe tbody tr th:only-of-type {\n",
       "        vertical-align: middle;\n",
       "    }\n",
       "\n",
       "    .dataframe tbody tr th {\n",
       "        vertical-align: top;\n",
       "    }\n",
       "\n",
       "    .dataframe thead th {\n",
       "        text-align: right;\n",
       "    }\n",
       "</style>\n",
       "<table border=\"1\" class=\"dataframe\">\n",
       "  <thead>\n",
       "    <tr style=\"text-align: right;\">\n",
       "      <th></th>\n",
       "      <th>sequence_id</th>\n",
       "    </tr>\n",
       "  </thead>\n",
       "  <tbody>\n",
       "    <tr>\n",
       "      <th>0</th>\n",
       "      <td>SEQ_000007</td>\n",
       "    </tr>\n",
       "    <tr>\n",
       "      <th>1</th>\n",
       "      <td>SEQ_000007</td>\n",
       "    </tr>\n",
       "    <tr>\n",
       "      <th>2</th>\n",
       "      <td>SEQ_000007</td>\n",
       "    </tr>\n",
       "    <tr>\n",
       "      <th>3</th>\n",
       "      <td>SEQ_000007</td>\n",
       "    </tr>\n",
       "    <tr>\n",
       "      <th>4</th>\n",
       "      <td>SEQ_000007</td>\n",
       "    </tr>\n",
       "  </tbody>\n",
       "</table>\n",
       "</div>"
      ],
      "text/plain": [
       "  sequence_id\n",
       "0  SEQ_000007\n",
       "1  SEQ_000007\n",
       "2  SEQ_000007\n",
       "3  SEQ_000007\n",
       "4  SEQ_000007"
      ]
     },
     "execution_count": 7,
     "metadata": {},
     "output_type": "execute_result"
    }
   ],
   "source": [
    "# Setting up my DataFrame name to df\n",
    "df = pd.read_csv(\"train.csv\", usecols=[\"sequence_id\"])\n",
    "df.head()"
   ]
  },
  {
   "cell_type": "code",
   "execution_count": 8,
   "id": "50882a72-dfe2-470f-a8d7-6b9d0a658c98",
   "metadata": {},
   "outputs": [
    {
     "data": {
      "text/html": [
       "<div>\n",
       "<style scoped>\n",
       "    .dataframe tbody tr th:only-of-type {\n",
       "        vertical-align: middle;\n",
       "    }\n",
       "\n",
       "    .dataframe tbody tr th {\n",
       "        vertical-align: top;\n",
       "    }\n",
       "\n",
       "    .dataframe thead th {\n",
       "        text-align: right;\n",
       "    }\n",
       "</style>\n",
       "<table border=\"1\" class=\"dataframe\">\n",
       "  <thead>\n",
       "    <tr style=\"text-align: right;\">\n",
       "      <th></th>\n",
       "      <th>sequence_id</th>\n",
       "    </tr>\n",
       "  </thead>\n",
       "  <tbody>\n",
       "    <tr>\n",
       "      <th>count</th>\n",
       "      <td>574945</td>\n",
       "    </tr>\n",
       "    <tr>\n",
       "      <th>unique</th>\n",
       "      <td>8151</td>\n",
       "    </tr>\n",
       "    <tr>\n",
       "      <th>top</th>\n",
       "      <td>SEQ_015261</td>\n",
       "    </tr>\n",
       "    <tr>\n",
       "      <th>freq</th>\n",
       "      <td>700</td>\n",
       "    </tr>\n",
       "  </tbody>\n",
       "</table>\n",
       "</div>"
      ],
      "text/plain": [
       "       sequence_id\n",
       "count       574945\n",
       "unique        8151\n",
       "top     SEQ_015261\n",
       "freq           700"
      ]
     },
     "execution_count": 8,
     "metadata": {},
     "output_type": "execute_result"
    }
   ],
   "source": [
    "# finding summarization for sequence_id column\n",
    "df.describe()"
   ]
  },
  {
   "cell_type": "code",
   "execution_count": 9,
   "id": "01718386-cf79-4e9a-93bd-b4739ff5e269",
   "metadata": {},
   "outputs": [
    {
     "data": {
      "text/plain": [
       "sequence_id    0\n",
       "dtype: int64"
      ]
     },
     "execution_count": 9,
     "metadata": {},
     "output_type": "execute_result"
    }
   ],
   "source": [
    "# Check for null values in sequence_id column\n",
    "df.isnull().sum()"
   ]
  },
  {
   "cell_type": "markdown",
   "id": "26f75cff-2ac6-4707-ad24-bc1aa69dd340",
   "metadata": {},
   "source": [
    "Perfect, there is no null values in sequence column, lets move on to creating data visualization, as known as univariate analysis using one variable, sequence_id."
   ]
  },
  {
   "cell_type": "markdown",
   "id": "b0806d80-dfb2-4c8d-9109-587ddf1442c1",
   "metadata": {},
   "source": [
    "---"
   ]
  },
  {
   "cell_type": "markdown",
   "id": "c94a8a9a-de9a-4817-921d-d8e6e4adf490",
   "metadata": {},
   "source": [
    "## Univariate Analysis"
   ]
  },
  {
   "cell_type": "code",
   "execution_count": 13,
   "id": "2a4ebbdc-0c21-4dc9-b05a-134478421111",
   "metadata": {},
   "outputs": [],
   "source": [
    "# import matplotlib and seaborn\n",
    "import matplotlib.pyplot as plt\n",
    "import seaborn as sns"
   ]
  },
  {
   "cell_type": "code",
   "execution_count": 14,
   "id": "c0c94bf7-e44a-49da-b0d8-2308e93836c5",
   "metadata": {},
   "outputs": [
    {
     "data": {
      "text/plain": [
       "<Axes: ylabel='count'>"
      ]
     },
     "execution_count": 14,
     "metadata": {},
     "output_type": "execute_result"
    },
    {
     "data": {
      "image/png": "[encoded data removed]",
      "text/plain": [
       "<Figure size 640x480 with 1 Axes>"
      ]
     },
     "metadata": {},
     "output_type": "display_data"
    }
   ],
   "source": [
    "# Limit to top 10 in pie chart\n",
    "df.value_counts().head(10).plot.pie()"
   ]
  },
  {
   "cell_type": "markdown",
   "id": "d2a94a85-af3f-4d1c-a106-ea3e6e449a8f",
   "metadata": {},
   "source": [
    "---"
   ]
  },
  {
   "cell_type": "markdown",
   "id": "67be8bb7-740d-4270-a335-4b3fd6a0d15a",
   "metadata": {},
   "source": [
    "### Onto creating univariate analysis for acc_x"
   ]
  },
  {
   "cell_type": "code",
   "execution_count": 17,
   "id": "10ec53cd-c1fd-468b-a33b-0016636b2b2d",
   "metadata": {},
   "outputs": [
    {
     "data": {
      "text/html": [
       "<div>\n",
       "<style scoped>\n",
       "    .dataframe tbody tr th:only-of-type {\n",
       "        vertical-align: middle;\n",
       "    }\n",
       "\n",
       "    .dataframe tbody tr th {\n",
       "        vertical-align: top;\n",
       "    }\n",
       "\n",
       "    .dataframe thead th {\n",
       "        text-align: right;\n",
       "    }\n",
       "</style>\n",
       "<table border=\"1\" class=\"dataframe\">\n",
       "  <thead>\n",
       "    <tr style=\"text-align: right;\">\n",
       "      <th></th>\n",
       "      <th>acc_x</th>\n",
       "    </tr>\n",
       "  </thead>\n",
       "  <tbody>\n",
       "    <tr>\n",
       "      <th>0</th>\n",
       "      <td>6.683594</td>\n",
       "    </tr>\n",
       "    <tr>\n",
       "      <th>1</th>\n",
       "      <td>6.949219</td>\n",
       "    </tr>\n",
       "    <tr>\n",
       "      <th>2</th>\n",
       "      <td>5.722656</td>\n",
       "    </tr>\n",
       "    <tr>\n",
       "      <th>3</th>\n",
       "      <td>6.601562</td>\n",
       "    </tr>\n",
       "    <tr>\n",
       "      <th>4</th>\n",
       "      <td>5.566406</td>\n",
       "    </tr>\n",
       "  </tbody>\n",
       "</table>\n",
       "</div>"
      ],
      "text/plain": [
       "      acc_x\n",
       "0  6.683594\n",
       "1  6.949219\n",
       "2  5.722656\n",
       "3  6.601562\n",
       "4  5.566406"
      ]
     },
     "execution_count": 17,
     "metadata": {},
     "output_type": "execute_result"
    }
   ],
   "source": [
    "# As I mentioned earlier on how, I will be creating a new df that focuses on acc_x only.\n",
    "df = pd.read_csv(\"train.csv\", usecols=[\"acc_x\"])\n",
    "df.head()"
   ]
  },
  {
   "cell_type": "code",
   "execution_count": 18,
   "id": "7ef27b30-ecc7-43c3-a7d9-3eb20c246822",
   "metadata": {},
   "outputs": [
    {
     "data": {
      "text/html": [
       "<div>\n",
       "<style scoped>\n",
       "    .dataframe tbody tr th:only-of-type {\n",
       "        vertical-align: middle;\n",
       "    }\n",
       "\n",
       "    .dataframe tbody tr th {\n",
       "        vertical-align: top;\n",
       "    }\n",
       "\n",
       "    .dataframe thead th {\n",
       "        text-align: right;\n",
       "    }\n",
       "</style>\n",
       "<table border=\"1\" class=\"dataframe\">\n",
       "  <thead>\n",
       "    <tr style=\"text-align: right;\">\n",
       "      <th></th>\n",
       "      <th>acc_x</th>\n",
       "    </tr>\n",
       "  </thead>\n",
       "  <tbody>\n",
       "    <tr>\n",
       "      <th>count</th>\n",
       "      <td>574945.000000</td>\n",
       "    </tr>\n",
       "    <tr>\n",
       "      <th>mean</th>\n",
       "      <td>1.639980</td>\n",
       "    </tr>\n",
       "    <tr>\n",
       "      <th>std</th>\n",
       "      <td>5.781259</td>\n",
       "    </tr>\n",
       "    <tr>\n",
       "      <th>min</th>\n",
       "      <td>-34.585938</td>\n",
       "    </tr>\n",
       "    <tr>\n",
       "      <th>25%</th>\n",
       "      <td>-2.964844</td>\n",
       "    </tr>\n",
       "    <tr>\n",
       "      <th>50%</th>\n",
       "      <td>2.972656</td>\n",
       "    </tr>\n",
       "    <tr>\n",
       "      <th>75%</th>\n",
       "      <td>6.343750</td>\n",
       "    </tr>\n",
       "    <tr>\n",
       "      <th>max</th>\n",
       "      <td>46.328125</td>\n",
       "    </tr>\n",
       "  </tbody>\n",
       "</table>\n",
       "</div>"
      ],
      "text/plain": [
       "               acc_x\n",
       "count  574945.000000\n",
       "mean        1.639980\n",
       "std         5.781259\n",
       "min       -34.585938\n",
       "25%        -2.964844\n",
       "50%         2.972656\n",
       "75%         6.343750\n",
       "max        46.328125"
      ]
     },
     "execution_count": 18,
     "metadata": {},
     "output_type": "execute_result"
    }
   ],
   "source": [
    "# Summarization\n",
    "df.describe()"
   ]
  },
  {
   "cell_type": "code",
   "execution_count": 19,
   "id": "f4b8b8b8-5d6b-45c7-81d9-2ec27cb2863d",
   "metadata": {},
   "outputs": [
    {
     "data": {
      "text/plain": [
       "acc_x    0\n",
       "dtype: int64"
      ]
     },
     "execution_count": 19,
     "metadata": {},
     "output_type": "execute_result"
    }
   ],
   "source": [
    "# Checking for counts of null values\n",
    "df.isnull().sum()"
   ]
  },
  {
   "cell_type": "markdown",
   "id": "45386d26-3d94-480b-aaed-396b819bd580",
   "metadata": {},
   "source": [
    "no null values, very good."
   ]
  },
  {
   "cell_type": "code",
   "execution_count": 21,
   "id": "7bd5938a-ea9d-418b-b747-36748e595d1d",
   "metadata": {},
   "outputs": [
    {
     "data": {
      "text/plain": [
       "acc_x     \n",
       " 6.062500     311\n",
       " 5.871094     305\n",
       " 6.140625     300\n",
       " 5.832031     278\n",
       " 6.179688     270\n",
       "             ... \n",
       "-14.917969      1\n",
       "-14.921875      1\n",
       "-14.929688      1\n",
       "-14.945312      1\n",
       " 46.328125      1\n",
       "Name: count, Length: 8225, dtype: int64"
      ]
     },
     "execution_count": 21,
     "metadata": {},
     "output_type": "execute_result"
    }
   ],
   "source": [
    "# Use Value counts for acc_x\n",
    "df.value_counts()"
   ]
  },
  {
   "cell_type": "code",
   "execution_count": 22,
   "id": "604e1535-f4a3-46a7-ae09-f10b85ec1484",
   "metadata": {},
   "outputs": [
    {
     "data": {
      "image/png": "[encoded data removed]",
      "text/plain": [
       "<Figure size 1200x600 with 1 Axes>"
      ]
     },
     "metadata": {},
     "output_type": "display_data"
    }
   ],
   "source": [
    "# setting up the style\n",
    "sns.set_style('whitegrid')\n",
    "\n",
    "# Create the size of grid\n",
    "plt.figure(figsize=(12, 6))\n",
    "\n",
    "# Create the plot\n",
    "ax = sns.histplot(data=df, x='acc_x', bins=50, color='blue', stat='density', alpha=0.6)\n",
    "sns.kdeplot(data=df, x='acc_x', color='darkblue', ax=ax)\n",
    "\n",
    "# Add titles and labels for easy to understand\n",
    "plt.title('Histogram of acc_x', fontsize=14)\n",
    "plt.xlabel('Number of acc_x', fontsize=12)\n",
    "plt.ylabel('Frequency', fontsize=12)\n",
    "\n",
    "# Display the plot\n",
    "plt.show()"
   ]
  },
  {
   "cell_type": "markdown",
   "id": "628ffba5-1c6b-4686-b3db-8849cfbf5dac",
   "metadata": {},
   "source": [
    "---"
   ]
  },
  {
   "cell_type": "markdown",
   "id": "ff6de496-eb33-41d3-967b-b10fc37fb9d4",
   "metadata": {},
   "source": [
    "### Onto creating univariate analysis for acc_y"
   ]
  },
  {
   "cell_type": "code",
   "execution_count": 25,
   "id": "f7fe2f3b-311c-4fc6-9545-32d2941b815c",
   "metadata": {},
   "outputs": [
    {
     "data": {
      "text/html": [
       "<div>\n",
       "<style scoped>\n",
       "    .dataframe tbody tr th:only-of-type {\n",
       "        vertical-align: middle;\n",
       "    }\n",
       "\n",
       "    .dataframe tbody tr th {\n",
       "        vertical-align: top;\n",
       "    }\n",
       "\n",
       "    .dataframe thead th {\n",
       "        text-align: right;\n",
       "    }\n",
       "</style>\n",
       "<table border=\"1\" class=\"dataframe\">\n",
       "  <thead>\n",
       "    <tr style=\"text-align: right;\">\n",
       "      <th></th>\n",
       "      <th>acc_y</th>\n",
       "    </tr>\n",
       "  </thead>\n",
       "  <tbody>\n",
       "    <tr>\n",
       "      <th>0</th>\n",
       "      <td>6.214844</td>\n",
       "    </tr>\n",
       "    <tr>\n",
       "      <th>1</th>\n",
       "      <td>6.214844</td>\n",
       "    </tr>\n",
       "    <tr>\n",
       "      <th>2</th>\n",
       "      <td>5.410156</td>\n",
       "    </tr>\n",
       "    <tr>\n",
       "      <th>3</th>\n",
       "      <td>3.531250</td>\n",
       "    </tr>\n",
       "    <tr>\n",
       "      <th>4</th>\n",
       "      <td>0.277344</td>\n",
       "    </tr>\n",
       "  </tbody>\n",
       "</table>\n",
       "</div>"
      ],
      "text/plain": [
       "      acc_y\n",
       "0  6.214844\n",
       "1  6.214844\n",
       "2  5.410156\n",
       "3  3.531250\n",
       "4  0.277344"
      ]
     },
     "execution_count": 25,
     "metadata": {},
     "output_type": "execute_result"
    }
   ],
   "source": [
    "# As I mentioned earlier on how, I will be creating a new df that focuses on acc_y only.\n",
    "df = pd.read_csv(\"train.csv\", usecols=[\"acc_y\"])\n",
    "df.head()"
   ]
  },
  {
   "cell_type": "code",
   "execution_count": 26,
   "id": "75903884-12e2-436f-8d3b-b048a8187e83",
   "metadata": {},
   "outputs": [
    {
     "data": {
      "text/html": [
       "<div>\n",
       "<style scoped>\n",
       "    .dataframe tbody tr th:only-of-type {\n",
       "        vertical-align: middle;\n",
       "    }\n",
       "\n",
       "    .dataframe tbody tr th {\n",
       "        vertical-align: top;\n",
       "    }\n",
       "\n",
       "    .dataframe thead th {\n",
       "        text-align: right;\n",
       "    }\n",
       "</style>\n",
       "<table border=\"1\" class=\"dataframe\">\n",
       "  <thead>\n",
       "    <tr style=\"text-align: right;\">\n",
       "      <th></th>\n",
       "      <th>acc_y</th>\n",
       "    </tr>\n",
       "  </thead>\n",
       "  <tbody>\n",
       "    <tr>\n",
       "      <th>count</th>\n",
       "      <td>574945.000000</td>\n",
       "    </tr>\n",
       "    <tr>\n",
       "      <th>mean</th>\n",
       "      <td>1.790704</td>\n",
       "    </tr>\n",
       "    <tr>\n",
       "      <th>std</th>\n",
       "      <td>5.003945</td>\n",
       "    </tr>\n",
       "    <tr>\n",
       "      <th>min</th>\n",
       "      <td>-24.402344</td>\n",
       "    </tr>\n",
       "    <tr>\n",
       "      <th>25%</th>\n",
       "      <td>-2.121094</td>\n",
       "    </tr>\n",
       "    <tr>\n",
       "      <th>50%</th>\n",
       "      <td>0.695312</td>\n",
       "    </tr>\n",
       "    <tr>\n",
       "      <th>75%</th>\n",
       "      <td>6.816406</td>\n",
       "    </tr>\n",
       "    <tr>\n",
       "      <th>max</th>\n",
       "      <td>27.183594</td>\n",
       "    </tr>\n",
       "  </tbody>\n",
       "</table>\n",
       "</div>"
      ],
      "text/plain": [
       "               acc_y\n",
       "count  574945.000000\n",
       "mean        1.790704\n",
       "std         5.003945\n",
       "min       -24.402344\n",
       "25%        -2.121094\n",
       "50%         0.695312\n",
       "75%         6.816406\n",
       "max        27.183594"
      ]
     },
     "execution_count": 26,
     "metadata": {},
     "output_type": "execute_result"
    }
   ],
   "source": [
    "# Summarization\n",
    "df.describe()"
   ]
  },
  {
   "cell_type": "code",
   "execution_count": 27,
   "id": "1afdb954-bebd-440c-a7d1-699747ea0cc5",
   "metadata": {},
   "outputs": [
    {
     "data": {
      "text/plain": [
       "acc_y    0\n",
       "dtype: int64"
      ]
     },
     "execution_count": 27,
     "metadata": {},
     "output_type": "execute_result"
    }
   ],
   "source": [
    "# Checking for counts of null values\n",
    "df.isnull().sum()"
   ]
  },
  {
   "cell_type": "markdown",
   "id": "9cbeda69-1c83-4b6b-ac9d-f3f1edb2aed1",
   "metadata": {},
   "source": [
    "There is no null values for acc_y whcih is great."
   ]
  },
  {
   "cell_type": "code",
   "execution_count": 29,
   "id": "645c7372-946d-4808-90a7-205cb1bd8344",
   "metadata": {},
   "outputs": [
    {
     "data": {
      "text/plain": [
       "acc_y     \n",
       "-1.113281     449\n",
       "-0.351562     388\n",
       "-1.042969     349\n",
       "-0.390625     340\n",
       " 1.933594     335\n",
       "             ... \n",
       " 11.851562      1\n",
       " 11.859375      1\n",
       " 11.863281      1\n",
       " 11.906250      1\n",
       " 27.183594      1\n",
       "Name: count, Length: 6497, dtype: int64"
      ]
     },
     "execution_count": 29,
     "metadata": {},
     "output_type": "execute_result"
    }
   ],
   "source": [
    "# Use Value counts for acc_y\n",
    "df.value_counts()"
   ]
  },
  {
   "cell_type": "code",
   "execution_count": 30,
   "id": "d499d7c1-d83d-4dee-b48a-25e4ea1d24c8",
   "metadata": {},
   "outputs": [
    {
     "data": {
      "image/png": "[encoded data removed]",
      "text/plain": [
       "<Figure size 1200x600 with 1 Axes>"
      ]
     },
     "metadata": {},
     "output_type": "display_data"
    }
   ],
   "source": [
    "# Create the size of grid\n",
    "plt.figure(figsize=(12, 6))\n",
    "\n",
    "# Create the plot\n",
    "ax = sns.histplot(data=df, x='acc_y', bins=50, color='green', stat='density', alpha=0.6)\n",
    "sns.kdeplot(data=df, x='acc_y', color='darkgreen', ax=ax)\n",
    "\n",
    "# Add titles and labels for easy to understand\n",
    "plt.title('Histogram of acc_y', fontsize=14)\n",
    "plt.xlabel('Number of acc_y', fontsize=12)\n",
    "plt.ylabel('Frequency', fontsize=12)\n",
    "\n",
    "# Display the plot\n",
    "plt.show()"
   ]
  },
  {
   "cell_type": "markdown",
   "id": "ff1ab555-d502-429a-82c6-30076c8d3fe2",
   "metadata": {},
   "source": [
    "---"
   ]
  },
  {
   "cell_type": "markdown",
   "id": "874ee6dd-b77c-4ba2-a5ee-656d33e7b006",
   "metadata": {},
   "source": [
    "### Onto creating univariate analysis for acc_z"
   ]
  },
  {
   "cell_type": "code",
   "execution_count": 33,
   "id": "3d2bc7d4-fbed-4d35-b4b3-896006a84230",
   "metadata": {},
   "outputs": [
    {
     "data": {
      "text/html": [
       "<div>\n",
       "<style scoped>\n",
       "    .dataframe tbody tr th:only-of-type {\n",
       "        vertical-align: middle;\n",
       "    }\n",
       "\n",
       "    .dataframe tbody tr th {\n",
       "        vertical-align: top;\n",
       "    }\n",
       "\n",
       "    .dataframe thead th {\n",
       "        text-align: right;\n",
       "    }\n",
       "</style>\n",
       "<table border=\"1\" class=\"dataframe\">\n",
       "  <thead>\n",
       "    <tr style=\"text-align: right;\">\n",
       "      <th></th>\n",
       "      <th>acc_z</th>\n",
       "    </tr>\n",
       "  </thead>\n",
       "  <tbody>\n",
       "    <tr>\n",
       "      <th>0</th>\n",
       "      <td>3.355469</td>\n",
       "    </tr>\n",
       "    <tr>\n",
       "      <th>1</th>\n",
       "      <td>3.125000</td>\n",
       "    </tr>\n",
       "    <tr>\n",
       "      <th>2</th>\n",
       "      <td>5.421875</td>\n",
       "    </tr>\n",
       "    <tr>\n",
       "      <th>3</th>\n",
       "      <td>6.457031</td>\n",
       "    </tr>\n",
       "    <tr>\n",
       "      <th>4</th>\n",
       "      <td>9.632812</td>\n",
       "    </tr>\n",
       "  </tbody>\n",
       "</table>\n",
       "</div>"
      ],
      "text/plain": [
       "      acc_z\n",
       "0  3.355469\n",
       "1  3.125000\n",
       "2  5.421875\n",
       "3  6.457031\n",
       "4  9.632812"
      ]
     },
     "execution_count": 33,
     "metadata": {},
     "output_type": "execute_result"
    }
   ],
   "source": [
    "# As I mentioned earlier on how, I will be creating a new df that focuses on acc_z only.\n",
    "df = pd.read_csv(\"train.csv\", usecols=[\"acc_z\"])\n",
    "df.head()"
   ]
  },
  {
   "cell_type": "code",
   "execution_count": 34,
   "id": "829f9980-1c80-4110-b83b-d65d561598c3",
   "metadata": {},
   "outputs": [
    {
     "data": {
      "text/html": [
       "<div>\n",
       "<style scoped>\n",
       "    .dataframe tbody tr th:only-of-type {\n",
       "        vertical-align: middle;\n",
       "    }\n",
       "\n",
       "    .dataframe tbody tr th {\n",
       "        vertical-align: top;\n",
       "    }\n",
       "\n",
       "    .dataframe thead th {\n",
       "        text-align: right;\n",
       "    }\n",
       "</style>\n",
       "<table border=\"1\" class=\"dataframe\">\n",
       "  <thead>\n",
       "    <tr style=\"text-align: right;\">\n",
       "      <th></th>\n",
       "      <th>acc_z</th>\n",
       "    </tr>\n",
       "  </thead>\n",
       "  <tbody>\n",
       "    <tr>\n",
       "      <th>count</th>\n",
       "      <td>574945.000000</td>\n",
       "    </tr>\n",
       "    <tr>\n",
       "      <th>mean</th>\n",
       "      <td>-0.459811</td>\n",
       "    </tr>\n",
       "    <tr>\n",
       "      <th>std</th>\n",
       "      <td>6.096490</td>\n",
       "    </tr>\n",
       "    <tr>\n",
       "      <th>min</th>\n",
       "      <td>-42.855469</td>\n",
       "    </tr>\n",
       "    <tr>\n",
       "      <th>25%</th>\n",
       "      <td>-5.417969</td>\n",
       "    </tr>\n",
       "    <tr>\n",
       "      <th>50%</th>\n",
       "      <td>-1.562500</td>\n",
       "    </tr>\n",
       "    <tr>\n",
       "      <th>75%</th>\n",
       "      <td>5.164062</td>\n",
       "    </tr>\n",
       "    <tr>\n",
       "      <th>max</th>\n",
       "      <td>30.078125</td>\n",
       "    </tr>\n",
       "  </tbody>\n",
       "</table>\n",
       "</div>"
      ],
      "text/plain": [
       "               acc_z\n",
       "count  574945.000000\n",
       "mean       -0.459811\n",
       "std         6.096490\n",
       "min       -42.855469\n",
       "25%        -5.417969\n",
       "50%        -1.562500\n",
       "75%         5.164062\n",
       "max        30.078125"
      ]
     },
     "execution_count": 34,
     "metadata": {},
     "output_type": "execute_result"
    }
   ],
   "source": [
    "# Summarization\n",
    "df.describe()"
   ]
  },
  {
   "cell_type": "code",
   "execution_count": 35,
   "id": "c09afadd-367a-4405-be35-5e6e70e400c9",
   "metadata": {},
   "outputs": [
    {
     "data": {
      "text/plain": [
       "acc_z    0\n",
       "dtype: int64"
      ]
     },
     "execution_count": 35,
     "metadata": {},
     "output_type": "execute_result"
    }
   ],
   "source": [
    "# Checking for counts of null values\n",
    "df.isnull().sum()"
   ]
  },
  {
   "cell_type": "markdown",
   "id": "944ede6b-f95b-4961-8bcc-0e7441bc1d3d",
   "metadata": {},
   "source": [
    "There is no null values for acc_y whcih is great."
   ]
  },
  {
   "cell_type": "code",
   "execution_count": 37,
   "id": "9a096122-0b9a-43b6-b97c-5d333a45abd0",
   "metadata": {},
   "outputs": [
    {
     "data": {
      "text/plain": [
       "acc_z     \n",
       " 9.468750     293\n",
       " 9.113281     266\n",
       "-4.410156     243\n",
       " 9.109375     239\n",
       " 9.226562     226\n",
       "             ... \n",
       "-14.218750      1\n",
       "-14.230469      1\n",
       "-14.234375      1\n",
       "-14.238281      1\n",
       " 30.078125      1\n",
       "Name: count, Length: 7933, dtype: int64"
      ]
     },
     "execution_count": 37,
     "metadata": {},
     "output_type": "execute_result"
    }
   ],
   "source": [
    "# Use Value counts for acc_z\n",
    "df.value_counts()"
   ]
  },
  {
   "cell_type": "code",
   "execution_count": 38,
   "id": "76c2ad57-7f34-49d3-8d50-113c032f32e6",
   "metadata": {},
   "outputs": [
    {
     "data": {
      "image/png": "[encoded data removed]",
      "text/plain": [
       "<Figure size 1200x600 with 1 Axes>"
      ]
     },
     "metadata": {},
     "output_type": "display_data"
    }
   ],
   "source": [
    "# setting up the style\n",
    "sns.set_style('whitegrid')\n",
    "\n",
    "# Create the size of grid\n",
    "plt.figure(figsize=(12, 6))\n",
    "\n",
    "# Create the plot\n",
    "ax = sns.histplot(data=df, x='acc_z', bins=50, color='lightpink', stat='density', alpha=0.6)\n",
    "sns.kdeplot(data=df, x='acc_z', color='pink', ax=ax)\n",
    "\n",
    "# Add titles and labels for easy to understand\n",
    "plt.title('Histogram of acc_z', fontsize=14)\n",
    "plt.xlabel('Number of acc_z', fontsize=12)\n",
    "plt.ylabel('Frequency', fontsize=12)\n",
    "\n",
    "# Display the plot\n",
    "plt.show()"
   ]
  },
  {
   "cell_type": "markdown",
   "id": "fa859a1f-d077-4a4c-8c41-a7c925a133ec",
   "metadata": {},
   "source": [
    "---"
   ]
  },
  {
   "cell_type": "markdown",
   "id": "3e23c0ad-37b7-4a96-8ecf-c3ef1d1630db",
   "metadata": {},
   "source": [
    "### Onto Creating univariate analysis for rot_w, rot_x, rot_y, and rot_z"
   ]
  },
  {
   "cell_type": "code",
   "execution_count": 41,
   "id": "cb358f9a-381e-46e1-a092-fb3f235606e2",
   "metadata": {},
   "outputs": [
    {
     "data": {
      "text/html": [
       "<div>\n",
       "<style scoped>\n",
       "    .dataframe tbody tr th:only-of-type {\n",
       "        vertical-align: middle;\n",
       "    }\n",
       "\n",
       "    .dataframe tbody tr th {\n",
       "        vertical-align: top;\n",
       "    }\n",
       "\n",
       "    .dataframe thead th {\n",
       "        text-align: right;\n",
       "    }\n",
       "</style>\n",
       "<table border=\"1\" class=\"dataframe\">\n",
       "  <thead>\n",
       "    <tr style=\"text-align: right;\">\n",
       "      <th></th>\n",
       "      <th>rot_w</th>\n",
       "    </tr>\n",
       "  </thead>\n",
       "  <tbody>\n",
       "    <tr>\n",
       "      <th>0</th>\n",
       "      <td>0.134399</td>\n",
       "    </tr>\n",
       "    <tr>\n",
       "      <th>1</th>\n",
       "      <td>0.143494</td>\n",
       "    </tr>\n",
       "    <tr>\n",
       "      <th>2</th>\n",
       "      <td>0.219055</td>\n",
       "    </tr>\n",
       "    <tr>\n",
       "      <th>3</th>\n",
       "      <td>0.297546</td>\n",
       "    </tr>\n",
       "    <tr>\n",
       "      <th>4</th>\n",
       "      <td>0.333557</td>\n",
       "    </tr>\n",
       "  </tbody>\n",
       "</table>\n",
       "</div>"
      ],
      "text/plain": [
       "      rot_w\n",
       "0  0.134399\n",
       "1  0.143494\n",
       "2  0.219055\n",
       "3  0.297546\n",
       "4  0.333557"
      ]
     },
     "execution_count": 41,
     "metadata": {},
     "output_type": "execute_result"
    }
   ],
   "source": [
    "# read_csv for rot_w\n",
    "df = pd.read_csv(\"train.csv\", usecols=[\"rot_w\"])\n",
    "df.head()"
   ]
  },
  {
   "cell_type": "code",
   "execution_count": 42,
   "id": "f785a257-7f21-4c22-b1fd-ada99cd2f450",
   "metadata": {},
   "outputs": [
    {
     "data": {
      "text/html": [
       "<div>\n",
       "<style scoped>\n",
       "    .dataframe tbody tr th:only-of-type {\n",
       "        vertical-align: middle;\n",
       "    }\n",
       "\n",
       "    .dataframe tbody tr th {\n",
       "        vertical-align: top;\n",
       "    }\n",
       "\n",
       "    .dataframe thead th {\n",
       "        text-align: right;\n",
       "    }\n",
       "</style>\n",
       "<table border=\"1\" class=\"dataframe\">\n",
       "  <thead>\n",
       "    <tr style=\"text-align: right;\">\n",
       "      <th></th>\n",
       "      <th>rot_w</th>\n",
       "    </tr>\n",
       "  </thead>\n",
       "  <tbody>\n",
       "    <tr>\n",
       "      <th>count</th>\n",
       "      <td>571253.000000</td>\n",
       "    </tr>\n",
       "    <tr>\n",
       "      <th>mean</th>\n",
       "      <td>0.360375</td>\n",
       "    </tr>\n",
       "    <tr>\n",
       "      <th>std</th>\n",
       "      <td>0.225739</td>\n",
       "    </tr>\n",
       "    <tr>\n",
       "      <th>min</th>\n",
       "      <td>0.000000</td>\n",
       "    </tr>\n",
       "    <tr>\n",
       "      <th>25%</th>\n",
       "      <td>0.180237</td>\n",
       "    </tr>\n",
       "    <tr>\n",
       "      <th>50%</th>\n",
       "      <td>0.340332</td>\n",
       "    </tr>\n",
       "    <tr>\n",
       "      <th>75%</th>\n",
       "      <td>0.503479</td>\n",
       "    </tr>\n",
       "    <tr>\n",
       "      <th>max</th>\n",
       "      <td>0.999390</td>\n",
       "    </tr>\n",
       "  </tbody>\n",
       "</table>\n",
       "</div>"
      ],
      "text/plain": [
       "               rot_w\n",
       "count  571253.000000\n",
       "mean        0.360375\n",
       "std         0.225739\n",
       "min         0.000000\n",
       "25%         0.180237\n",
       "50%         0.340332\n",
       "75%         0.503479\n",
       "max         0.999390"
      ]
     },
     "execution_count": 42,
     "metadata": {},
     "output_type": "execute_result"
    }
   ],
   "source": [
    "# summarization\n",
    "df.describe()"
   ]
  },
  {
   "cell_type": "markdown",
   "id": "715d8b98-df8d-479d-abf5-83eae65878f8",
   "metadata": {},
   "source": [
    "NOTE: Look at this summarization, the number for rot_w stays between 0 and 1, nothing goes under 0 or 1!"
   ]
  },
  {
   "cell_type": "code",
   "execution_count": 44,
   "id": "440ba4fa-2987-4fc1-bbc2-a0abc4d8fab2",
   "metadata": {},
   "outputs": [
    {
     "data": {
      "text/plain": [
       "rot_w    3692\n",
       "dtype: int64"
      ]
     },
     "execution_count": 44,
     "metadata": {},
     "output_type": "execute_result"
    }
   ],
   "source": [
    "# check for null values\n",
    "df.isnull().sum()"
   ]
  },
  {
   "cell_type": "markdown",
   "id": "68ca3c62-98c6-4c6b-b3cc-ecec8dcd32b3",
   "metadata": {},
   "source": [
    "There are 3692 missing values in rot_w column... meaning I have to remove them by using dropna() function"
   ]
  },
  {
   "cell_type": "code",
   "execution_count": 46,
   "id": "ab1cc9a6-5a30-497e-8f9c-52d8eb38f58c",
   "metadata": {},
   "outputs": [],
   "source": [
    "df.dropna(inplace=True)"
   ]
  },
  {
   "cell_type": "code",
   "execution_count": 47,
   "id": "d585e974-5815-4fe4-8f8a-7b28c918e0aa",
   "metadata": {},
   "outputs": [
    {
     "data": {
      "text/plain": [
       "rot_w    0\n",
       "dtype: int64"
      ]
     },
     "execution_count": 47,
     "metadata": {},
     "output_type": "execute_result"
    }
   ],
   "source": [
    "df.isnull().sum()"
   ]
  },
  {
   "cell_type": "markdown",
   "id": "2a3e16cb-2693-44e3-85fc-d5ae0a1ab7d3",
   "metadata": {},
   "source": [
    "Looks good, onto creating data visualization"
   ]
  },
  {
   "cell_type": "code",
   "execution_count": 49,
   "id": "60557642-ab3e-4f8f-8321-192b14aaef2f",
   "metadata": {},
   "outputs": [
    {
     "data": {
      "text/plain": [
       "rot_w   \n",
       "0.344666    85\n",
       "0.286011    84\n",
       "0.432617    83\n",
       "0.239746    82\n",
       "0.364990    81\n",
       "            ..\n",
       "0.981018     1\n",
       "0.981201     1\n",
       "0.981323     1\n",
       "0.981445     1\n",
       "0.999390     1\n",
       "Name: count, Length: 16180, dtype: int64"
      ]
     },
     "execution_count": 49,
     "metadata": {},
     "output_type": "execute_result"
    }
   ],
   "source": [
    "df.value_counts()"
   ]
  },
  {
   "cell_type": "code",
   "execution_count": 50,
   "id": "53380b8d-004c-4be3-b851-2d90e284f191",
   "metadata": {},
   "outputs": [
    {
     "data": {
      "image/png": "[encoded data removed]",
      "text/plain": [
       "<Figure size 1200x600 with 1 Axes>"
      ]
     },
     "metadata": {},
     "output_type": "display_data"
    }
   ],
   "source": [
    "# setting up the style\n",
    "sns.set_style('whitegrid')\n",
    "\n",
    "# Create the size of grid\n",
    "plt.figure(figsize=(12, 6))\n",
    "\n",
    "# Create the plot\n",
    "ax = sns.histplot(data=df, x='rot_w', bins=50, color='red', stat='density', alpha=0.6)\n",
    "sns.kdeplot(data=df, x='rot_w', color='darkred', ax=ax)\n",
    "\n",
    "# Add titles and labels for easy to understand\n",
    "plt.title('Histogram of rot_w', fontsize=14)\n",
    "plt.xlabel('Number of rot_w', fontsize=12)\n",
    "plt.ylabel('Frequency', fontsize=12)\n",
    "\n",
    "# Display the plot\n",
    "plt.show()"
   ]
  },
  {
   "cell_type": "markdown",
   "id": "af409b54-a324-4b79-aa81-08260eff3106",
   "metadata": {},
   "source": [
    "NOTE: As I mentioned before, this indicate that it stays between 0 to 1."
   ]
  },
  {
   "cell_type": "markdown",
   "id": "37d76176-4cd1-40ac-8ebb-204018c7ffdd",
   "metadata": {},
   "source": [
    "---"
   ]
  },
  {
   "cell_type": "code",
   "execution_count": 53,
   "id": "15ae9bdc-3558-42d0-a179-71ead91494d2",
   "metadata": {},
   "outputs": [
    {
     "data": {
      "text/html": [
       "<div>\n",
       "<style scoped>\n",
       "    .dataframe tbody tr th:only-of-type {\n",
       "        vertical-align: middle;\n",
       "    }\n",
       "\n",
       "    .dataframe tbody tr th {\n",
       "        vertical-align: top;\n",
       "    }\n",
       "\n",
       "    .dataframe thead th {\n",
       "        text-align: right;\n",
       "    }\n",
       "</style>\n",
       "<table border=\"1\" class=\"dataframe\">\n",
       "  <thead>\n",
       "    <tr style=\"text-align: right;\">\n",
       "      <th></th>\n",
       "      <th>rot_x</th>\n",
       "    </tr>\n",
       "  </thead>\n",
       "  <tbody>\n",
       "    <tr>\n",
       "      <th>0</th>\n",
       "      <td>-0.355164</td>\n",
       "    </tr>\n",
       "    <tr>\n",
       "      <th>1</th>\n",
       "      <td>-0.340271</td>\n",
       "    </tr>\n",
       "    <tr>\n",
       "      <th>2</th>\n",
       "      <td>-0.274231</td>\n",
       "    </tr>\n",
       "    <tr>\n",
       "      <th>3</th>\n",
       "      <td>-0.264160</td>\n",
       "    </tr>\n",
       "    <tr>\n",
       "      <th>4</th>\n",
       "      <td>-0.218628</td>\n",
       "    </tr>\n",
       "  </tbody>\n",
       "</table>\n",
       "</div>"
      ],
      "text/plain": [
       "      rot_x\n",
       "0 -0.355164\n",
       "1 -0.340271\n",
       "2 -0.274231\n",
       "3 -0.264160\n",
       "4 -0.218628"
      ]
     },
     "execution_count": 53,
     "metadata": {},
     "output_type": "execute_result"
    }
   ],
   "source": [
    "# read_csv for rot_x\n",
    "df = pd.read_csv(\"train.csv\", usecols=[\"rot_x\"])\n",
    "df.head()"
   ]
  },
  {
   "cell_type": "code",
   "execution_count": 54,
   "id": "41d62c45-f658-4d7b-8ce7-f511496b4d70",
   "metadata": {},
   "outputs": [
    {
     "data": {
      "text/html": [
       "<div>\n",
       "<style scoped>\n",
       "    .dataframe tbody tr th:only-of-type {\n",
       "        vertical-align: middle;\n",
       "    }\n",
       "\n",
       "    .dataframe tbody tr th {\n",
       "        vertical-align: top;\n",
       "    }\n",
       "\n",
       "    .dataframe thead th {\n",
       "        text-align: right;\n",
       "    }\n",
       "</style>\n",
       "<table border=\"1\" class=\"dataframe\">\n",
       "  <thead>\n",
       "    <tr style=\"text-align: right;\">\n",
       "      <th></th>\n",
       "      <th>rot_x</th>\n",
       "    </tr>\n",
       "  </thead>\n",
       "  <tbody>\n",
       "    <tr>\n",
       "      <th>count</th>\n",
       "      <td>571253.000000</td>\n",
       "    </tr>\n",
       "    <tr>\n",
       "      <th>mean</th>\n",
       "      <td>-0.119916</td>\n",
       "    </tr>\n",
       "    <tr>\n",
       "      <th>std</th>\n",
       "      <td>0.465520</td>\n",
       "    </tr>\n",
       "    <tr>\n",
       "      <th>min</th>\n",
       "      <td>-0.999146</td>\n",
       "    </tr>\n",
       "    <tr>\n",
       "      <th>25%</th>\n",
       "      <td>-0.456299</td>\n",
       "    </tr>\n",
       "    <tr>\n",
       "      <th>50%</th>\n",
       "      <td>-0.186890</td>\n",
       "    </tr>\n",
       "    <tr>\n",
       "      <th>75%</th>\n",
       "      <td>0.204590</td>\n",
       "    </tr>\n",
       "    <tr>\n",
       "      <th>max</th>\n",
       "      <td>0.999817</td>\n",
       "    </tr>\n",
       "  </tbody>\n",
       "</table>\n",
       "</div>"
      ],
      "text/plain": [
       "               rot_x\n",
       "count  571253.000000\n",
       "mean       -0.119916\n",
       "std         0.465520\n",
       "min        -0.999146\n",
       "25%        -0.456299\n",
       "50%        -0.186890\n",
       "75%         0.204590\n",
       "max         0.999817"
      ]
     },
     "execution_count": 54,
     "metadata": {},
     "output_type": "execute_result"
    }
   ],
   "source": [
    "# summarization for rot_x\n",
    "df.describe()"
   ]
  },
  {
   "cell_type": "code",
   "execution_count": 55,
   "id": "c3ac6f26-4b48-452e-999d-2482bfcea6cc",
   "metadata": {},
   "outputs": [
    {
     "data": {
      "text/plain": [
       "rot_x    3692\n",
       "dtype: int64"
      ]
     },
     "execution_count": 55,
     "metadata": {},
     "output_type": "execute_result"
    }
   ],
   "source": [
    "# Check for count of null value\n",
    "df.isnull().sum()"
   ]
  },
  {
   "cell_type": "code",
   "execution_count": 56,
   "id": "fab2b1db-a48e-49d2-a8b2-39b47640b73a",
   "metadata": {},
   "outputs": [],
   "source": [
    "# remove null values\n",
    "df.dropna(inplace=True)"
   ]
  },
  {
   "cell_type": "code",
   "execution_count": 57,
   "id": "0930e67e-a7e7-45ca-b305-9433e1f5df3b",
   "metadata": {},
   "outputs": [
    {
     "data": {
      "text/plain": [
       "rot_x    0\n",
       "dtype: int64"
      ]
     },
     "execution_count": 57,
     "metadata": {},
     "output_type": "execute_result"
    }
   ],
   "source": [
    "# Check again to make sure\n",
    "df.isnull().sum()"
   ]
  },
  {
   "cell_type": "code",
   "execution_count": 58,
   "id": "5c1b9578-c129-49f9-a570-fc75a7812a71",
   "metadata": {},
   "outputs": [
    {
     "data": {
      "text/plain": [
       "rot_x    \n",
       "-0.274231    61\n",
       "-0.244873    56\n",
       "-0.228760    56\n",
       "-0.273071    56\n",
       "-0.207458    55\n",
       "             ..\n",
       " 0.927002     1\n",
       " 0.924561     1\n",
       " 0.918152     1\n",
       " 0.917114     1\n",
       " 0.999817     1\n",
       "Name: count, Length: 32568, dtype: int64"
      ]
     },
     "execution_count": 58,
     "metadata": {},
     "output_type": "execute_result"
    }
   ],
   "source": [
    "df.value_counts()"
   ]
  },
  {
   "cell_type": "code",
   "execution_count": 59,
   "id": "aae9aacb-8b3c-4145-82b6-3a0d09686730",
   "metadata": {},
   "outputs": [
    {
     "data": {
      "image/png": "[encoded data removed]",
      "text/plain": [
       "<Figure size 1200x600 with 1 Axes>"
      ]
     },
     "metadata": {},
     "output_type": "display_data"
    }
   ],
   "source": [
    "# setting up the style\n",
    "sns.set_style('whitegrid')\n",
    "\n",
    "# Create the size of grid\n",
    "plt.figure(figsize=(12, 6))\n",
    "\n",
    "# Create the plot\n",
    "ax = sns.histplot(data=df, x='rot_x', bins=50, color='purple', stat='density', alpha=0.6)\n",
    "sns.kdeplot(data=df, x='rot_x', color='purple', ax=ax)\n",
    "\n",
    "# Add titles and labels for easy to understand\n",
    "plt.title('Histogram of rot_x', fontsize=14)\n",
    "plt.xlabel('Number of rot_x', fontsize=12)\n",
    "plt.ylabel('Frequency', fontsize=12)\n",
    "\n",
    "# Display the plot\n",
    "plt.show()"
   ]
  },
  {
   "cell_type": "markdown",
   "id": "bbbd8dfe-4de1-4939-b397-7e6fe20b2343",
   "metadata": {},
   "source": [
    "NOTE: Based on this kde graph, it looks like it is focusing on between -1 to 1. The most common number is between -2 to -3."
   ]
  },
  {
   "cell_type": "markdown",
   "id": "77e2e9a2-9725-4cea-be56-75366fce65f1",
   "metadata": {},
   "source": [
    "---"
   ]
  },
  {
   "cell_type": "code",
   "execution_count": 62,
   "id": "75b9c6f9-ca03-4f24-a515-b3aed2a03e5a",
   "metadata": {
    "scrolled": true
   },
   "outputs": [
    {
     "data": {
      "text/html": [
       "<div>\n",
       "<style scoped>\n",
       "    .dataframe tbody tr th:only-of-type {\n",
       "        vertical-align: middle;\n",
       "    }\n",
       "\n",
       "    .dataframe tbody tr th {\n",
       "        vertical-align: top;\n",
       "    }\n",
       "\n",
       "    .dataframe thead th {\n",
       "        text-align: right;\n",
       "    }\n",
       "</style>\n",
       "<table border=\"1\" class=\"dataframe\">\n",
       "  <thead>\n",
       "    <tr style=\"text-align: right;\">\n",
       "      <th></th>\n",
       "      <th>rot_y</th>\n",
       "    </tr>\n",
       "  </thead>\n",
       "  <tbody>\n",
       "    <tr>\n",
       "      <th>0</th>\n",
       "      <td>-0.447327</td>\n",
       "    </tr>\n",
       "    <tr>\n",
       "      <th>1</th>\n",
       "      <td>-0.428650</td>\n",
       "    </tr>\n",
       "    <tr>\n",
       "      <th>2</th>\n",
       "      <td>-0.356934</td>\n",
       "    </tr>\n",
       "    <tr>\n",
       "      <th>3</th>\n",
       "      <td>-0.238159</td>\n",
       "    </tr>\n",
       "    <tr>\n",
       "      <th>4</th>\n",
       "      <td>-0.063538</td>\n",
       "    </tr>\n",
       "  </tbody>\n",
       "</table>\n",
       "</div>"
      ],
      "text/plain": [
       "      rot_y\n",
       "0 -0.447327\n",
       "1 -0.428650\n",
       "2 -0.356934\n",
       "3 -0.238159\n",
       "4 -0.063538"
      ]
     },
     "execution_count": 62,
     "metadata": {},
     "output_type": "execute_result"
    }
   ],
   "source": [
    "# read_csv for rot_y\n",
    "df = pd.read_csv(\"train.csv\", usecols=[\"rot_y\"])\n",
    "df.head()"
   ]
  },
  {
   "cell_type": "code",
   "execution_count": 63,
   "id": "0fdc2f3f-9b63-48fe-bf31-8a7efe6f6a4e",
   "metadata": {},
   "outputs": [
    {
     "data": {
      "text/html": [
       "<div>\n",
       "<style scoped>\n",
       "    .dataframe tbody tr th:only-of-type {\n",
       "        vertical-align: middle;\n",
       "    }\n",
       "\n",
       "    .dataframe tbody tr th {\n",
       "        vertical-align: top;\n",
       "    }\n",
       "\n",
       "    .dataframe thead th {\n",
       "        text-align: right;\n",
       "    }\n",
       "</style>\n",
       "<table border=\"1\" class=\"dataframe\">\n",
       "  <thead>\n",
       "    <tr style=\"text-align: right;\">\n",
       "      <th></th>\n",
       "      <th>rot_y</th>\n",
       "    </tr>\n",
       "  </thead>\n",
       "  <tbody>\n",
       "    <tr>\n",
       "      <th>count</th>\n",
       "      <td>571253.000000</td>\n",
       "    </tr>\n",
       "    <tr>\n",
       "      <th>mean</th>\n",
       "      <td>-0.059953</td>\n",
       "    </tr>\n",
       "    <tr>\n",
       "      <th>std</th>\n",
       "      <td>0.543028</td>\n",
       "    </tr>\n",
       "    <tr>\n",
       "      <th>min</th>\n",
       "      <td>-0.999695</td>\n",
       "    </tr>\n",
       "    <tr>\n",
       "      <th>25%</th>\n",
       "      <td>-0.511536</td>\n",
       "    </tr>\n",
       "    <tr>\n",
       "      <th>50%</th>\n",
       "      <td>-0.112610</td>\n",
       "    </tr>\n",
       "    <tr>\n",
       "      <th>75%</th>\n",
       "      <td>0.440063</td>\n",
       "    </tr>\n",
       "    <tr>\n",
       "      <th>max</th>\n",
       "      <td>0.999451</td>\n",
       "    </tr>\n",
       "  </tbody>\n",
       "</table>\n",
       "</div>"
      ],
      "text/plain": [
       "               rot_y\n",
       "count  571253.000000\n",
       "mean       -0.059953\n",
       "std         0.543028\n",
       "min        -0.999695\n",
       "25%        -0.511536\n",
       "50%        -0.112610\n",
       "75%         0.440063\n",
       "max         0.999451"
      ]
     },
     "execution_count": 63,
     "metadata": {},
     "output_type": "execute_result"
    }
   ],
   "source": [
    "# summarization for \n",
    "df.describe()"
   ]
  },
  {
   "cell_type": "code",
   "execution_count": 64,
   "id": "f7a6e99c-43e2-43cc-9426-1b5a58c79b51",
   "metadata": {},
   "outputs": [
    {
     "data": {
      "text/plain": [
       "rot_y    3692\n",
       "dtype: int64"
      ]
     },
     "execution_count": 64,
     "metadata": {},
     "output_type": "execute_result"
    }
   ],
   "source": [
    "df.isnull().sum()"
   ]
  },
  {
   "cell_type": "code",
   "execution_count": 65,
   "id": "1a62ae61-314b-4196-944e-4b395f483c6e",
   "metadata": {},
   "outputs": [],
   "source": [
    "df.dropna(inplace=True)"
   ]
  },
  {
   "cell_type": "code",
   "execution_count": 66,
   "id": "32423873-fb1b-481a-a113-6f8841e739b7",
   "metadata": {},
   "outputs": [
    {
     "data": {
      "text/plain": [
       "rot_y    0\n",
       "dtype: int64"
      ]
     },
     "execution_count": 66,
     "metadata": {},
     "output_type": "execute_result"
    }
   ],
   "source": [
    "df.isnull().sum()"
   ]
  },
  {
   "cell_type": "code",
   "execution_count": 67,
   "id": "2622f32e-1fb0-44e5-bada-50e62693fd14",
   "metadata": {},
   "outputs": [
    {
     "data": {
      "text/plain": [
       "rot_y    \n",
       "-0.019043    51\n",
       " 0.038635    51\n",
       "-0.016663    46\n",
       "-0.430786    46\n",
       "-0.003113    43\n",
       "             ..\n",
       "-0.970642     1\n",
       "-0.977539     1\n",
       "-0.982483     1\n",
       "-0.985046     1\n",
       " 0.999451     1\n",
       "Name: count, Length: 32720, dtype: int64"
      ]
     },
     "execution_count": 67,
     "metadata": {},
     "output_type": "execute_result"
    }
   ],
   "source": [
    "df.value_counts()"
   ]
  },
  {
   "cell_type": "code",
   "execution_count": 68,
   "id": "4d98de67-5d88-4b69-8353-eed97791c691",
   "metadata": {},
   "outputs": [
    {
     "data": {
      "image/png": "[encoded data removed]",
      "text/plain": [
       "<Figure size 1200x600 with 1 Axes>"
      ]
     },
     "metadata": {},
     "output_type": "display_data"
    }
   ],
   "source": [
    "# setting up the style\n",
    "sns.set_style('whitegrid')\n",
    "\n",
    "# Create the size of grid\n",
    "plt.figure(figsize=(12, 6))\n",
    "\n",
    "# Create the plot\n",
    "ax = sns.histplot(data=df, x='rot_y', bins=50, color='orange', stat='density', alpha=0.6)\n",
    "sns.kdeplot(data=df, x='rot_y', color='darkorange', ax=ax)\n",
    "\n",
    "# Add titles and labels for easy to understand\n",
    "plt.title('Histogram of rot_y', fontsize=14)\n",
    "plt.xlabel('Number of rot_y', fontsize=12)\n",
    "plt.ylabel('Frequency', fontsize=12)\n",
    "\n",
    "# Display the plot\n",
    "plt.show()"
   ]
  },
  {
   "cell_type": "markdown",
   "id": "db94e1b8-ac4c-4092-a584-ac13b8150516",
   "metadata": {},
   "source": [
    "---"
   ]
  },
  {
   "cell_type": "code",
   "execution_count": 70,
   "id": "6cb38e7a-0fd2-4640-9db8-4cdc59066871",
   "metadata": {},
   "outputs": [
    {
     "data": {
      "text/html": [
       "<div>\n",
       "<style scoped>\n",
       "    .dataframe tbody tr th:only-of-type {\n",
       "        vertical-align: middle;\n",
       "    }\n",
       "\n",
       "    .dataframe tbody tr th {\n",
       "        vertical-align: top;\n",
       "    }\n",
       "\n",
       "    .dataframe thead th {\n",
       "        text-align: right;\n",
       "    }\n",
       "</style>\n",
       "<table border=\"1\" class=\"dataframe\">\n",
       "  <thead>\n",
       "    <tr style=\"text-align: right;\">\n",
       "      <th></th>\n",
       "      <th>rot_z</th>\n",
       "    </tr>\n",
       "  </thead>\n",
       "  <tbody>\n",
       "    <tr>\n",
       "      <th>0</th>\n",
       "      <td>-0.809753</td>\n",
       "    </tr>\n",
       "    <tr>\n",
       "      <th>1</th>\n",
       "      <td>-0.824524</td>\n",
       "    </tr>\n",
       "    <tr>\n",
       "      <th>2</th>\n",
       "      <td>-0.865662</td>\n",
       "    </tr>\n",
       "    <tr>\n",
       "      <th>3</th>\n",
       "      <td>-0.885986</td>\n",
       "    </tr>\n",
       "    <tr>\n",
       "      <th>4</th>\n",
       "      <td>-0.914856</td>\n",
       "    </tr>\n",
       "  </tbody>\n",
       "</table>\n",
       "</div>"
      ],
      "text/plain": [
       "      rot_z\n",
       "0 -0.809753\n",
       "1 -0.824524\n",
       "2 -0.865662\n",
       "3 -0.885986\n",
       "4 -0.914856"
      ]
     },
     "execution_count": 70,
     "metadata": {},
     "output_type": "execute_result"
    }
   ],
   "source": [
    "# read_csv for rot_z\n",
    "df = pd.read_csv(\"train.csv\", usecols=[\"rot_z\"])\n",
    "df.head()"
   ]
  },
  {
   "cell_type": "code",
   "execution_count": 71,
   "id": "fe92af53-ca7c-406e-bb81-73e12f514503",
   "metadata": {},
   "outputs": [
    {
     "data": {
      "text/html": [
       "<div>\n",
       "<style scoped>\n",
       "    .dataframe tbody tr th:only-of-type {\n",
       "        vertical-align: middle;\n",
       "    }\n",
       "\n",
       "    .dataframe tbody tr th {\n",
       "        vertical-align: top;\n",
       "    }\n",
       "\n",
       "    .dataframe thead th {\n",
       "        text-align: right;\n",
       "    }\n",
       "</style>\n",
       "<table border=\"1\" class=\"dataframe\">\n",
       "  <thead>\n",
       "    <tr style=\"text-align: right;\">\n",
       "      <th></th>\n",
       "      <th>rot_z</th>\n",
       "    </tr>\n",
       "  </thead>\n",
       "  <tbody>\n",
       "    <tr>\n",
       "      <th>count</th>\n",
       "      <td>571253.000000</td>\n",
       "    </tr>\n",
       "    <tr>\n",
       "      <th>mean</th>\n",
       "      <td>-0.188298</td>\n",
       "    </tr>\n",
       "    <tr>\n",
       "      <th>std</th>\n",
       "      <td>0.504137</td>\n",
       "    </tr>\n",
       "    <tr>\n",
       "      <th>min</th>\n",
       "      <td>-0.998169</td>\n",
       "    </tr>\n",
       "    <tr>\n",
       "      <th>25%</th>\n",
       "      <td>-0.627686</td>\n",
       "    </tr>\n",
       "    <tr>\n",
       "      <th>50%</th>\n",
       "      <td>-0.263916</td>\n",
       "    </tr>\n",
       "    <tr>\n",
       "      <th>75%</th>\n",
       "      <td>0.251099</td>\n",
       "    </tr>\n",
       "    <tr>\n",
       "      <th>max</th>\n",
       "      <td>0.999878</td>\n",
       "    </tr>\n",
       "  </tbody>\n",
       "</table>\n",
       "</div>"
      ],
      "text/plain": [
       "               rot_z\n",
       "count  571253.000000\n",
       "mean       -0.188298\n",
       "std         0.504137\n",
       "min        -0.998169\n",
       "25%        -0.627686\n",
       "50%        -0.263916\n",
       "75%         0.251099\n",
       "max         0.999878"
      ]
     },
     "execution_count": 71,
     "metadata": {},
     "output_type": "execute_result"
    }
   ],
   "source": [
    "# Summarization\n",
    "df.describe()"
   ]
  },
  {
   "cell_type": "code",
   "execution_count": 72,
   "id": "1c5f7dd2-5706-4c75-8f80-266190240ac0",
   "metadata": {},
   "outputs": [
    {
     "data": {
      "text/plain": [
       "rot_z    3692\n",
       "dtype: int64"
      ]
     },
     "execution_count": 72,
     "metadata": {},
     "output_type": "execute_result"
    }
   ],
   "source": [
    "# Check for null values\n",
    "df.isnull().sum()"
   ]
  },
  {
   "cell_type": "code",
   "execution_count": 73,
   "id": "d195da97-942c-480b-871b-0dbb6fbcfb96",
   "metadata": {},
   "outputs": [],
   "source": [
    "# Remove null values\n",
    "df.dropna(inplace=True)"
   ]
  },
  {
   "cell_type": "code",
   "execution_count": 74,
   "id": "4069eaca-98ae-4089-89cc-2c468ed3a05c",
   "metadata": {},
   "outputs": [
    {
     "data": {
      "text/plain": [
       "rot_z    0\n",
       "dtype: int64"
      ]
     },
     "execution_count": 74,
     "metadata": {},
     "output_type": "execute_result"
    }
   ],
   "source": [
    "# Check to make sure if it is dropped\n",
    "df.isnull().sum()"
   ]
  },
  {
   "cell_type": "code",
   "execution_count": 75,
   "id": "b8ba03dc-93f6-4bfa-bdd5-4c0bb455d3bd",
   "metadata": {},
   "outputs": [
    {
     "data": {
      "text/plain": [
       "rot_z    \n",
       "-0.805725    57\n",
       "-0.783752    54\n",
       "-0.540771    53\n",
       "-0.697510    53\n",
       "-0.850952    53\n",
       "             ..\n",
       " 0.914368     1\n",
       " 0.914490     1\n",
       " 0.914856     1\n",
       " 0.915466     1\n",
       " 0.999878     1\n",
       "Name: count, Length: 32317, dtype: int64"
      ]
     },
     "execution_count": 75,
     "metadata": {},
     "output_type": "execute_result"
    }
   ],
   "source": [
    "# Check for value counts to have better idea of what data visualization will look like\n",
    "df.value_counts()"
   ]
  },
  {
   "cell_type": "code",
   "execution_count": 76,
   "id": "51cddb8f-e499-4915-b84e-ff0f25456f4d",
   "metadata": {},
   "outputs": [
    {
     "data": {
      "image/png": "[encoded data removed]",
      "text/plain": [
       "<Figure size 1200x600 with 1 Axes>"
      ]
     },
     "metadata": {},
     "output_type": "display_data"
    }
   ],
   "source": [
    "# setting up the style\n",
    "sns.set_style('whitegrid')\n",
    "\n",
    "# Create the size of grid\n",
    "plt.figure(figsize=(12, 6))\n",
    "\n",
    "# Create the plot\n",
    "ax = sns.histplot(data=df, x='rot_z', bins=50, color='gray', stat='density', alpha=0.6)\n",
    "sns.kdeplot(data=df, x='rot_z', color='black', ax=ax)\n",
    "\n",
    "# Add titles and labels for easy to understand\n",
    "plt.title('Histogram of rot_z', fontsize=14)\n",
    "plt.xlabel('Number of rot_z', fontsize=12)\n",
    "plt.ylabel('Frequency', fontsize=12)\n",
    "\n",
    "# Display the plot\n",
    "plt.show()"
   ]
  },
  {
   "cell_type": "markdown",
   "id": "21652d55-0555-4eee-9348-8a3fed374648",
   "metadata": {},
   "source": [
    "### This is the end of Univariate Analysis"
   ]
  }
 ],
 "metadata": {
  "kernelspec": {
   "display_name": "Python 3 (ipykernel)",
   "language": "python",
   "name": "python3"
  },
  "language_info": {
   "codemirror_mode": {
    "name": "ipython",
    "version": 3
   },
   "file_extension": ".py",
   "mimetype": "text/x-python",
   "name": "python",
   "nbconvert_exporter": "python",
   "pygments_lexer": "ipython3",
   "version": "3.11.5"
  }
 },
 "nbformat": 4,
 "nbformat_minor": 5
}
